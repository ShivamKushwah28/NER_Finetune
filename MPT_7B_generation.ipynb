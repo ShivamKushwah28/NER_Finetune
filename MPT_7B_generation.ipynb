{
 "cells": [
  {
   "cell_type": "code",
   "execution_count": 1,
   "metadata": {},
   "outputs": [
    {
     "name": "stderr",
     "output_type": "stream",
     "text": [
      "/DATA/atharva_2101cs14/miniconda3/envs/LLMS/lib/python3.11/site-packages/tqdm/auto.py:21: TqdmWarning: IProgress not found. Please update jupyter and ipywidgets. See https://ipywidgets.readthedocs.io/en/stable/user_install.html\n",
      "  from .autonotebook import tqdm as notebook_tqdm\n"
     ]
    }
   ],
   "source": [
    "import pandas as pd\n",
    "from tqdm import tqdm\n",
    "import ast\n",
    "from  transformers import AutoTokenizer\n",
    "import transformers\n",
    "import torch"
   ]
  },
  {
   "cell_type": "code",
   "execution_count": 2,
   "metadata": {},
   "outputs": [],
   "source": [
    "model = \"mosaicml/mpt-7b-chat\"\n",
    " \n",
    "df = pd.read_csv(\"/DATA/atharva_2101cs14/Negotiation/PPMD Conversastion Data - Final Complete Dataset.csv\")"
   ]
  },
  {
   "cell_type": "code",
   "execution_count": 3,
   "metadata": {},
   "outputs": [
    {
     "name": "stdout",
     "output_type": "stream",
     "text": [
      "Instantiating an MPTForCausalLM model from /DATA/atharva_2101cs14/.cache/huggingface/modules/transformers_modules/mosaicml/mpt-7b-chat/64e5c9c9fb53a8e89690c2dee75a5add37f7113e/modeling_mpt.py\n",
      "You are using config.init_device='cpu', but you can also use config.init_device=\"meta\" with Composer + FSDP for fast initialization.\n"
     ]
    },
    {
     "name": "stderr",
     "output_type": "stream",
     "text": [
      "Loading checkpoint shards: 100%|██████████| 2/2 [00:15<00:00,  7.98s/it]\n"
     ]
    }
   ],
   "source": [
    "tokenizer = AutoTokenizer.from_pretrained(model)\n",
    "config = transformers.AutoConfig.from_pretrained(model, trust_remote_code=True)\n",
    "config.init_device = \"cuda:0\"\n",
    "config.max_seq_len = 4096\n",
    "\n",
    "pipeline = transformers.pipeline(\n",
    "    \"text-generation\",\n",
    "    model=model,\n",
    "    tokenizer=tokenizer,\n",
    "    device = \"cuda:0\",\n",
    "    config=config,\n",
    "    torch_dtype=torch.bfloat16,\n",
    "    trust_remote_code=True,\n",
    ")"
   ]
  },
  {
   "cell_type": "code",
   "execution_count": 4,
   "metadata": {},
   "outputs": [
    {
     "name": "stderr",
     "output_type": "stream",
     "text": [
      "/DATA/atharva_2101cs14/miniconda3/envs/LLMS/lib/python3.11/site-packages/transformers/generation/utils.py:1270: UserWarning: You have modified the pretrained model configuration to control generation. This is a deprecated strategy to control generation and will be removed soon, in a future version. Please use a generation configuration file (see https://huggingface.co/docs/transformers/main_classes/text_generation )\n",
      "  warnings.warn(\n",
      "Setting `pad_token_id` to `eos_token_id`:0 for open-end generation.\n"
     ]
    },
    {
     "name": "stdout",
     "output_type": "stream",
     "text": [
      "1\n",
      "2\n",
      "42\n"
     ]
    },
    {
     "name": "stderr",
     "output_type": "stream",
     "text": [
      "Setting `pad_token_id` to `eos_token_id`:0 for open-end generation.\n"
     ]
    },
    {
     "name": "stdout",
     "output_type": "stream",
     "text": [
      "3\n",
      "93\n"
     ]
    },
    {
     "name": "stderr",
     "output_type": "stream",
     "text": [
      "Setting `pad_token_id` to `eos_token_id`:0 for open-end generation.\n"
     ]
    },
    {
     "name": "stdout",
     "output_type": "stream",
     "text": [
      "4\n",
      "193\n"
     ]
    },
    {
     "name": "stderr",
     "output_type": "stream",
     "text": [
      "Setting `pad_token_id` to `eos_token_id`:0 for open-end generation.\n"
     ]
    },
    {
     "name": "stdout",
     "output_type": "stream",
     "text": [
      "5\n",
      "343\n"
     ]
    },
    {
     "name": "stderr",
     "output_type": "stream",
     "text": [
      "Setting `pad_token_id` to `eos_token_id`:0 for open-end generation.\n"
     ]
    },
    {
     "name": "stdout",
     "output_type": "stream",
     "text": [
      "6\n",
      "490\n"
     ]
    },
    {
     "name": "stderr",
     "output_type": "stream",
     "text": [
      "Setting `pad_token_id` to `eos_token_id`:0 for open-end generation.\n"
     ]
    },
    {
     "name": "stdout",
     "output_type": "stream",
     "text": [
      "7\n",
      "604\n"
     ]
    },
    {
     "name": "stderr",
     "output_type": "stream",
     "text": [
      "Setting `pad_token_id` to `eos_token_id`:0 for open-end generation.\n"
     ]
    },
    {
     "name": "stdout",
     "output_type": "stream",
     "text": [
      "8\n",
      "785\n"
     ]
    },
    {
     "name": "stderr",
     "output_type": "stream",
     "text": [
      "Setting `pad_token_id` to `eos_token_id`:0 for open-end generation.\n"
     ]
    },
    {
     "name": "stdout",
     "output_type": "stream",
     "text": [
      "9\n",
      "923\n"
     ]
    },
    {
     "name": "stderr",
     "output_type": "stream",
     "text": [
      "Setting `pad_token_id` to `eos_token_id`:0 for open-end generation.\n"
     ]
    },
    {
     "name": "stdout",
     "output_type": "stream",
     "text": [
      "\n",
      "Summarize the below conversation in descreptive manner, such that all the important things discussied in the previous conversation are noted.\n",
      "Prompt: You are a electronics sales agent, help the customer make informed decisions about the product, mention the products specifically along with the model. Answer all the questions of the customer as an electronics sales agent.\n",
      "Customer: Hello and good morning. Could you kindly assist me in purchasing a laptop?\n",
      "Sales Agent: \n",
      "Sure! What is it that you're looking for exactly? Do you need something for work or school? Or maybe for gaming purposes?\n",
      "Customer: I'm looking for a cheap i7 cpu.\n",
      "Sales Agent: \n",
      "Great to know! We have several options available depending on your needs and budget. For instance, our Dell Inspiron 15 5000 Series comes with an Intel Core i7 processor and starts at $499. It also has 8GB RAM and 1TB HDD storage which should be sufficient for most users' needs. However, if you require more memory or SSD storage, we can definitely upgrade those specifications accordingly.\n",
      "Customer: I used a HP laptop earlier. It was quite nice.\n",
      "Sales Agent: \n",
      "That's great to hear! At Tech Mart, we carry various brands such as HP, Lenovo, Acer, Asus, and Dell. Each brand offers different features and benefits so it really depends on what matters most to you. If you liked the HP brand, then perhaps consider checking out their Pavilion x360 series starting at $399. This laptop comes with an AMD Ryzen 5 2500U Processor, 8GB DDR4 Memory, and 256GB PCIe NVMe Solid State Drive (SSD). Additionally, this laptop converts into a tablet with its 360-degree hinge design making it versatile for both work and play.\n",
      "Customer: I am just a normal user. I would not spend more than 2400.\n",
      "Sales Agent: \n",
      "Understood. In that case, let me suggest our ASUS ZenBook UX330UA starting at $699. The ASUS ZenBook UX330UA comes equipped with an Intel Core i5 processor, 8GB LPDDR3x RAM, and 128GB SATA III SSD. Although it doesn't come with a dedicated graphics card like some other laptops, the integrated Intel HD Graphics 620 GPU should suffice for everyday tasks such as web browsing, document editing, and light gaming. Also, since it runs on Windows 10 Home, you'll get access to Microsoft Office Suite for free until 2021.\n",
      "Customer: Is this a good laptop for daily use?\n",
      "Sales Agent: \n",
      "Based on my recommendation above, yes, the ASUS ZenBook UX330UA should serve well for general computing tasks including word processing, spreadsheets, emailing, video conferencing, etc. Its battery life lasts up to 12 hours too, ensuring you won't run out of juice midway through the day. Overall, the ASUS ZenBook UX330UA strikes a balance between performance, portability, and affordability while still offering a premium build quality.\n",
      "Customer: Please describe the features to me.\n",
      "Sales Agent: \n",
      "The ASUS ZenBook UX330UA boasts a 13.3-inch Full HD IPS display with a resolution of 1920 x 1080 pixels. Underneath the hood lies an Intel Core i5-8265U Processor clocked at 1.9GHz with Turbo Boost up to 4.1GHz. With 8GB LPDDR3x RAM and 128GB SATA III SSD, you'll enjoy fast boot times, smooth multitasking, and ample storage space for your files. Connectivity-wise, it supports Wi-Fi 802.11ac, Bluetooth 4.2, Gigabit Ethernet, and USB 3.1 Gen 2 Type-C ports. Finally, it weighs only 3.58 pounds and measures 0.7 inches thin, making it easy to carry around wherever you go.\n",
      "Customer: I don't think 620 graphics would perform well.\n",
      "Sales Agent: \n",
      "You're right -- the integrated Intel HD Graphics 620 GPU may not be ideal for gamers who demand high frame rates and detailed visuals. But for casual gamers and everyday users, the ASUS ZenBook UX330UA will handle basic games such as Minecraft, Candy Crush, and Solitaire without any issues. Alternatively, you could opt for one of our gaming laptops instead, such as the Razer Blade Stealth ($999) or MSI GF63 Thin 9RC ($800), each featuring dedicated Nvidia GeForce GTX graphics cards for smoother gameplay.\n",
      "\n",
      "Summary: \n",
      "Tech Mart carries multiple affordable laptops under $2500 with varying specs and features catering to different types of users. Based on the customer’s requirements for a cheap i7 CPU, 8GB RAM, and SSD storage, the best option seems to be the Dell Inspiron 15 5000 Series priced at $499. However, if they prefer a lighter weight and longer battery life, the ASUS Zen\n"
     ]
    },
    {
     "name": "stderr",
     "output_type": "stream",
     "text": [
      "Setting `pad_token_id` to `eos_token_id`:0 for open-end generation.\n"
     ]
    },
    {
     "name": "stdout",
     "output_type": "stream",
     "text": [
      "Summary: \n",
      "Tech Mart carries multiple affordable laptops under $2500 with varying specs and features catering to different types of users. Based on the customer’s requirements for a cheap i7 CPU, 8GB RAM, and SSD storage, the best option seems to be the Dell Inspiron 15 5000 Series priced at $499. However, if they prefer a lighter weight and longer battery life, the ASUS Zen\n",
      "Customer: I still doubt it will work for me or not.\n",
      "Sales Agent: \n",
      "I understand your concern. It is always recommended that you perform some research before making any purchase. If you are unsure about whether this laptop meets your needs, please let us know what specific specifications you are looking for in a laptop and we can help you find one that better suits\n",
      "10\n",
      "158\n"
     ]
    },
    {
     "name": "stderr",
     "output_type": "stream",
     "text": [
      "/DATA/atharva_2101cs14/miniconda3/envs/LLMS/lib/python3.11/site-packages/transformers/pipelines/base.py:1083: UserWarning: You seem to be using the pipelines sequentially on GPU. In order to maximize efficiency please use a dataset\n",
      "  warnings.warn(\n",
      "Setting `pad_token_id` to `eos_token_id`:0 for open-end generation.\n"
     ]
    },
    {
     "name": "stdout",
     "output_type": "stream",
     "text": [
      "11\n",
      "214\n"
     ]
    },
    {
     "name": "stderr",
     "output_type": "stream",
     "text": [
      "Setting `pad_token_id` to `eos_token_id`:0 for open-end generation.\n"
     ]
    },
    {
     "name": "stdout",
     "output_type": "stream",
     "text": [
      "12\n",
      "13\n",
      "243\n"
     ]
    },
    {
     "name": "stderr",
     "output_type": "stream",
     "text": [
      "Setting `pad_token_id` to `eos_token_id`:0 for open-end generation.\n"
     ]
    },
    {
     "name": "stdout",
     "output_type": "stream",
     "text": [
      "14\n",
      "324\n"
     ]
    },
    {
     "name": "stderr",
     "output_type": "stream",
     "text": [
      "Setting `pad_token_id` to `eos_token_id`:0 for open-end generation.\n"
     ]
    },
    {
     "name": "stdout",
     "output_type": "stream",
     "text": [
      "15\n",
      "368\n"
     ]
    },
    {
     "name": "stderr",
     "output_type": "stream",
     "text": [
      "Setting `pad_token_id` to `eos_token_id`:0 for open-end generation.\n"
     ]
    },
    {
     "name": "stdout",
     "output_type": "stream",
     "text": [
      "16\n",
      "415\n"
     ]
    },
    {
     "name": "stderr",
     "output_type": "stream",
     "text": [
      "Setting `pad_token_id` to `eos_token_id`:0 for open-end generation.\n"
     ]
    },
    {
     "name": "stdout",
     "output_type": "stream",
     "text": [
      "17\n",
      "482\n"
     ]
    },
    {
     "name": "stderr",
     "output_type": "stream",
     "text": [
      "Setting `pad_token_id` to `eos_token_id`:0 for open-end generation.\n"
     ]
    },
    {
     "name": "stdout",
     "output_type": "stream",
     "text": [
      "18\n",
      "563\n"
     ]
    },
    {
     "name": "stderr",
     "output_type": "stream",
     "text": [
      "Setting `pad_token_id` to `eos_token_id`:0 for open-end generation.\n"
     ]
    },
    {
     "name": "stdout",
     "output_type": "stream",
     "text": [
      "19\n",
      "595\n"
     ]
    },
    {
     "name": "stderr",
     "output_type": "stream",
     "text": [
      "Setting `pad_token_id` to `eos_token_id`:0 for open-end generation.\n"
     ]
    },
    {
     "name": "stdout",
     "output_type": "stream",
     "text": [
      "20\n",
      "645\n"
     ]
    }
   ],
   "source": [
    "count = 0\n",
    "lst = []\n",
    "chat = \"\"\"\"\"\"\n",
    "questions = []\n",
    "answers = []\n",
    "summary = []\n",
    "trial = 0\n",
    "for index in range(len(df)):\n",
    "\n",
    "    torch.cuda.empty_cache()\n",
    "    count+=1\n",
    "    print(count)\n",
    "\n",
    "    if ( index == 11 or index == 31 ):\n",
    "        continue\n",
    "\n",
    "    if( df[\"USER\"][index].isnumeric() ):\n",
    "        if count != 1:\n",
    "            lst.append(chat)\n",
    "        chat = \"\"\"Prompt: You are a electronics sales agent, help the customer make informed decisions about the product, mention the products specifically along with the model. Answer all the questions of the customer as an electronics sales agent.\"\"\"\n",
    "    \n",
    "#         chat = \"\"\"Prompt: You are a electronics sales agent, help the customer make informed decisions about the product, mention the products specifically along with the model. Answer all the questions of the customer as an electronics sales agent.\n",
    "# Example-\n",
    "# Customer: However, the resolution isn't great. Show me the one with better resolution.\n",
    "# Sales Agent: You should go with Nikon Coolpix 2000 is a digital camera with a resolution of 1632x1024 pixels and a pixel 1 camera that was released in 2002.\n",
    "# Reasoning: Customer specifically needs a good resolution, the agent provides him with one. Always try to find what customer exactly needs.\"\"\"\n",
    "\n",
    "        continue\n",
    "\n",
    "    else:\n",
    "        input_ids = tokenizer(chat,  return_tensors=\"pt\")[\"input_ids\"] \n",
    "        print(input_ids.size()[1])\n",
    "\n",
    "        if( input_ids.size()[1] > 800 ):\n",
    "            trial = 1\n",
    "            # print(\"------------------------\")\n",
    "            summarize = \"\"\"\\nSummarize the below conversation in descreptive manner, such that all the important things discussied in the previous conversation are noted.\\n\"\"\"\n",
    "            summarize += chat\n",
    "            summarize += \"\"\"\\n\\nSummary: \"\"\"\n",
    "\n",
    "            summary_seq = pipeline(\n",
    "                summarize,\n",
    "                max_length=4096,\n",
    "                do_sample=True,\n",
    "                top_k=1,\n",
    "                num_return_sequences=1,\n",
    "                eos_token_id=tokenizer.eos_token_id,\n",
    "                repetition_penalty=1.1,\n",
    "                temperature = 0.1\n",
    "            )\n",
    "\n",
    "            idx1 = summary_seq[0][\"generated_text\"].rfind(\"Summary:\")\n",
    "\n",
    "            chat = summary_seq[0][\"generated_text\"][idx1:]\n",
    "            summary.append(chat)\n",
    "            print(summary_seq[0][\"generated_text\"])\n",
    "\n",
    "        chat += \"\"\"\\nCustomer: \"\"\"\n",
    "        chat += df[\"USER\"][index]\n",
    "        questions.append(df[\"USER\"][index])\n",
    "        chat += \"\"\"\\nSales Agent: \"\"\"\n",
    "\n",
    "        sequences = pipeline(\n",
    "            chat,\n",
    "            max_length=4096,\n",
    "            do_sample=True,\n",
    "            top_k=1,\n",
    "            num_return_sequences=1,\n",
    "            eos_token_id=tokenizer.eos_token_id,\n",
    "            repetition_penalty=1.1,\n",
    "            temperature = 0.1\n",
    "        )\n",
    "\n",
    "        \n",
    "        chat = sequences[0][\"generated_text\"]\n",
    "        idx = chat.rfind(\"Sales Agent:\")\n",
    "        if(trial):\n",
    "            print(chat)\n",
    "            trial = 0\n",
    "\n",
    "        answers.append( chat[idx+13:] )\n",
    "    \n",
    "    if( count == 20 ):\n",
    "        trial = pd.DataFrame()\n",
    "        lst.append(chat)\n",
    "        trial[\"Ans\"] = lst\n",
    "        trial.to_csv(\"check_MPT7B.csv\")        \n",
    "        break"
   ]
  },
  {
   "cell_type": "code",
   "execution_count": 19,
   "metadata": {},
   "outputs": [
    {
     "data": {
      "text/plain": [
       "['Summary: \\nCustomer wants to purchase a new laptop under 2500. He prefers a cheaper i7 CPU and doesn’t want to pay more than 2400. He had a good experience with his old HP laptop and likes the idea of getting another HP laptop. He mentions that he requires a laptop primarily for office work and some occasional media consumption like watching videos. After discussing the two available options, the Dell Inspiron 15 5000 series and the HP Pavilion x360 14-ba010nr, the customer decides to go ahead with the latter because of its versatility and touch screen capability.']"
      ]
     },
     "execution_count": 19,
     "metadata": {},
     "output_type": "execute_result"
    }
   ],
   "source": [
    "summary"
   ]
  },
  {
   "cell_type": "code",
   "execution_count": 20,
   "metadata": {},
   "outputs": [
    {
     "data": {
      "text/plain": [
       "['Sure thing! Based on your requirements, we have two options available - the Dell Inspiron 15 5000 Series (model number 5567) and the HP Pavilion x360 14-ba010nr (model number BA010NR). Both laptops come with similar specifications but differ slightly in terms of design and features. Which one would you be interested in learning more about?',\n",
       " '\\nBoth models offer an Intel Core i7 processor, so they should meet your requirements. However, the Dell Inspiron 15 5000 Series comes standard with 8GB RAM while the HP Pavilion x360 14-ba010nr offers 16GB RAM as an option. Would you prefer a higher amount of memory?',\n",
       " '\\nThe HP Pavilion x360 14-ba010nr has received positive reviews from customers who appreciate its sleek design and long battery life. The laptop also includes a touchscreen display which can be useful if you plan on using it for multimedia purposes such as watching movies or playing games. Is this something you might be interested in?',\n",
       " \"\\nBased on your budget, both laptops fall within your range. If you prioritize performance over aesthetics, then the Dell Inspiron 15 5000 Series may be the better choice since it's designed for productivity tasks rather than entertainment. On the other hand, the HP Pavilion x360 14-ba010nr provides a versatile experience due to its convertible design and touch screen capabilities.\",\n",
       " '\\nYes, both laptops are suitable for everyday use including web browsing, document editing, and light programming. They also include built-in Wi-Fi and Bluetooth connectivity which makes it easy to connect to wireless networks and devices. Additionally, both laptops feature long-lasting batteries which provide up to 10 hours of usage time depending on the configuration.',\n",
       " \"\\nThe Dell Inspiron 15 5000 Series comes equipped with a 15.6-inch Full HD display, 4GB NVIDIA GeForce 940MX graphics card, and a 1TB hard drive for storage. In addition, the laptop supports fast charging technology allowing you to quickly charge the battery when needed. For security, the device includes a fingerprint reader and a Kensington lock slot.\\n\\n The HP Pavilion x360 14-ba010nr boasts a 14-inch Full HD touchscreen display, 2GB AMD Radeon 520 graphics card, and a 128GB solid state drive for faster boot times and improved overall performance. Other notable features include a backlit keyboard, a microSD card reader, and a USB 3.1 Type-C port for connecting to newer devices. Finally, the laptop runs on Windows 10 Home operating system providing access to Microsoft's latest software applications.\",\n",
       " '\\nWhile the base model of the Dell Inspiron 15 5000 Series does come with a 4GB NVIDIA GeForce 940MX GPU, upgrading to the 6GB version will significantly improve graphical performance. This upgrade costs $100 extra and can easily be added during checkout. Alternatively, the HP Pavilion x360 14-ba010nr already comes with a 6GB AMD Radeon 520 GPU out of the box without any additional cost.',\n",
       " '\\nI understand your concern. However, based on our conversation earlier about what you need the laptop for, this model should be suitable for your needs. The HP Pavilion x360 14-ba010nr is designed for both work and entertainment purposes, making it an ideal choice for someone like yourself who needs a versatile device. Additionally, since we discussed your budget, I believe this option falls within your price range.',\n",
       " \"\\nGreat! Let's get started then. Would you like to place an order online right away? Or do you prefer to visit one of our physical stores to purchase it in person?\",\n",
       " \"\\nOf course! We also have great deals on smartphones if you're interested. What kind of phone are you looking for?\",\n",
       " \"\\nSure thing! Based on your requirements, I recommend checking out the Samsung Galaxy S10e. It has a long-lasting battery life, high-quality camera, and plenty of storage space for all your media files. Plus, it comes with Samsung's latest One UI software update, which makes using the phone even easier and more intuitive.\",\n",
       " \"\\nYes, the Samsung Galaxy S10e is available in black. And don't worry; we can definitely help you find other colors as well if you'd prefer something different.\",\n",
       " '\\nThe suggested retail price for the Samsung Galaxy S10e is $750. However, we currently have a promotion going on where you can get up to 20% off when you trade in your old phone. So, depending on the condition of your current phone, you could potentially save quite a bit of money.',\n",
       " \"\\nAbsolutely! But remember, buying a new phone isn't just about the initial cost - it's also about the value you'll receive over time from using the device. With the Samsung Galaxy S10e, you'll enjoy top-of-the-line performance, cutting-edge features, and a sleek design that looks great anywhere you go.\",\n",
       " \"\\nThat's understandable. If you're having trouble affording it now, perhaps you could consider spreading the cost over several months through a payment plan. Many of our customers choose this option so they can enjoy their new phones without straining their budgets.\",\n",
       " \"\\nOkay, no problem at all. That sounds like a great decision given your specific needs. Enjoy your new computer and let us know if there's anything else we can assist you with regarding future purchases.\",\n",
       " '\\nThank you very much for considering purchasing from us. Have a wonderful day!',\n",
       " \"\\nYou're welcome! Don't hesitate to contact us again whenever you're ready to make another purchase.\"]"
      ]
     },
     "execution_count": 20,
     "metadata": {},
     "output_type": "execute_result"
    }
   ],
   "source": [
    "answers"
   ]
  },
  {
   "cell_type": "code",
   "execution_count": 22,
   "metadata": {},
   "outputs": [
    {
     "data": {
      "text/plain": [
       "[]"
      ]
     },
     "execution_count": 22,
     "metadata": {},
     "output_type": "execute_result"
    }
   ],
   "source": [
    "questions"
   ]
  },
  {
   "cell_type": "markdown",
   "metadata": {},
   "source": [
    "Returning the whole text in pipeline"
   ]
  }
 ],
 "metadata": {
  "kernelspec": {
   "display_name": "LLMS",
   "language": "python",
   "name": "python3"
  },
  "language_info": {
   "codemirror_mode": {
    "name": "ipython",
    "version": 3
   },
   "file_extension": ".py",
   "mimetype": "text/x-python",
   "name": "python",
   "nbconvert_exporter": "python",
   "pygments_lexer": "ipython3",
   "version": "3.11.4"
  },
  "orig_nbformat": 4
 },
 "nbformat": 4,
 "nbformat_minor": 2
}
